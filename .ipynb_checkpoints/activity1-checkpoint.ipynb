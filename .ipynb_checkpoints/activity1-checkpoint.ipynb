{
 "cells": [
  {
   "cell_type": "code",
   "execution_count": 2,
   "id": "5605c027-65f6-4b60-9f43-a4e47fd05237",
   "metadata": {},
   "outputs": [],
   "source": [
    "import cv2"
   ]
  },
  {
   "cell_type": "markdown",
   "id": "a3a8ff34-abf6-4fcb-a764-714002881953",
   "metadata": {},
   "source": [
    "# Original Image"
   ]
  },
  {
   "cell_type": "code",
   "execution_count": 3,
   "id": "816ea97f-66bb-4e04-affa-094b1befcec9",
   "metadata": {},
   "outputs": [
    {
     "name": "stdout",
     "output_type": "stream",
     "text": [
      "(1440, 1440, 3)\n"
     ]
    }
   ],
   "source": [
    "# Open an Original Image\n",
    "image = cv2.imread(\"profile.jpg\")\n",
    "print(image.shape)\n",
    "# Rename the Window Name\n",
    "window_name = \"Original Image\""
   ]
  },
  {
   "cell_type": "markdown",
   "id": "1b7aa7e7-f496-433d-a080-816fc644a378",
   "metadata": {},
   "source": [
    "# IMREAD_COLOR Image"
   ]
  },
  {
   "cell_type": "code",
   "execution_count": 4,
   "id": "aa4e6b16-49da-487a-a800-0883faa9aef3",
   "metadata": {},
   "outputs": [
    {
     "name": "stdout",
     "output_type": "stream",
     "text": [
      "(1440, 1440, 3)\n"
     ]
    }
   ],
   "source": [
    "# Open an IMREAD_COLOR Image\n",
    "image1 = cv2.imread(\"profile.jpg\",1)\n",
    "print(image1.shape)\n",
    "# Rename the Window Name\n",
    "window_name1 = \"IMREAD_COLOR Image\""
   ]
  },
  {
   "cell_type": "markdown",
   "id": "569abe04-feb8-4a85-b1ff-7c0061bf64ff",
   "metadata": {},
   "source": [
    "# IMREAD_GRAYSCALE Image"
   ]
  },
  {
   "cell_type": "code",
   "execution_count": 5,
   "id": "d594b6c8-744c-4c64-8f74-eac17f939ab1",
   "metadata": {},
   "outputs": [
    {
     "name": "stdout",
     "output_type": "stream",
     "text": [
      "(1440, 1440)\n"
     ]
    }
   ],
   "source": [
    "image2 = cv2.imread(\"profile.jpg\",0)\n",
    "print(image2.shape)\n",
    "# Rename the Window Name\n",
    "window_name2 = \"GRAYSCALE Image\""
   ]
  },
  {
   "cell_type": "markdown",
   "id": "38de9ae7-cc94-49b0-bbf5-587ecf454d33",
   "metadata": {},
   "source": [
    "# IMREAD_UNCHANGED Image"
   ]
  },
  {
   "cell_type": "code",
   "execution_count": 6,
   "id": "391d4172-a28e-4a12-9bf0-364106d0342d",
   "metadata": {},
   "outputs": [
    {
     "name": "stdout",
     "output_type": "stream",
     "text": [
      "(1440, 1440, 3)\n"
     ]
    }
   ],
   "source": [
    "image3 = cv2.imread(\"profile.jpg\",-1)\n",
    "print(image3.shape)\n",
    "# Rename the Window Name\n",
    "window_name3 = \"IMREAD_UNCHANGED Image\""
   ]
  },
  {
   "cell_type": "markdown",
   "id": "4ff9d107-1eb9-496a-8c52-9a044715b64a",
   "metadata": {},
   "source": [
    "# Display Images on Window"
   ]
  },
  {
   "cell_type": "code",
   "execution_count": 7,
   "id": "f3d330a6-5dc6-46d7-b9bf-3aa2338cc9ac",
   "metadata": {},
   "outputs": [],
   "source": [
    "cv2.imshow(window_name,image)\n",
    "cv2.imshow(window_name1,image1)\n",
    "cv2.imshow(window_name2,image2)\n",
    "cv2.imshow(window_name3,image3)"
   ]
  },
  {
   "cell_type": "markdown",
   "id": "42b0da52-12ff-43fd-aa3c-745a29b88a59",
   "metadata": {},
   "source": [
    "# Convert the image to grayscale"
   ]
  },
  {
   "cell_type": "code",
   "execution_count": 18,
   "id": "cb07ecae-0313-46a0-9158-8f618ec61be7",
   "metadata": {},
   "outputs": [
    {
     "ename": "error",
     "evalue": "OpenCV(4.5.5) :-1: error: (-5:Bad argument) in function 'imshow'\n> Overload resolution failed:\n>  - Can't convert object to 'str' for 'winname'\n>  - Can't convert object to 'str' for 'winname'\n>  - Can't convert object to 'str' for 'winname'\n",
     "output_type": "error",
     "traceback": [
      "\u001b[1;31m---------------------------------------------------------------------------\u001b[0m",
      "\u001b[1;31merror\u001b[0m                                     Traceback (most recent call last)",
      "\u001b[1;32m<ipython-input-18-9432aeafbcbb>\u001b[0m in \u001b[0;36m<module>\u001b[1;34m\u001b[0m\n\u001b[0;32m      2\u001b[0m \u001b[0minvert\u001b[0m \u001b[1;33m=\u001b[0m \u001b[0mcv2\u001b[0m\u001b[1;33m.\u001b[0m\u001b[0mbitwise_not\u001b[0m\u001b[1;33m(\u001b[0m\u001b[0mgrey_img\u001b[0m\u001b[1;33m)\u001b[0m\u001b[1;33m\u001b[0m\u001b[1;33m\u001b[0m\u001b[0m\n\u001b[0;32m      3\u001b[0m \u001b[0mwindow_name4\u001b[0m \u001b[1;33m=\u001b[0m \u001b[1;34m\"Invert\"\u001b[0m\u001b[1;33m\u001b[0m\u001b[1;33m\u001b[0m\u001b[0m\n\u001b[1;32m----> 4\u001b[1;33m \u001b[0mcv2\u001b[0m\u001b[1;33m.\u001b[0m\u001b[0mimshow\u001b[0m\u001b[1;33m(\u001b[0m\u001b[0mgrey_img\u001b[0m\u001b[1;33m,\u001b[0m \u001b[0mwindow_name4\u001b[0m\u001b[1;33m)\u001b[0m\u001b[1;33m\u001b[0m\u001b[1;33m\u001b[0m\u001b[0m\n\u001b[0m",
      "\u001b[1;31merror\u001b[0m: OpenCV(4.5.5) :-1: error: (-5:Bad argument) in function 'imshow'\n> Overload resolution failed:\n>  - Can't convert object to 'str' for 'winname'\n>  - Can't convert object to 'str' for 'winname'\n>  - Can't convert object to 'str' for 'winname'\n"
     ]
    }
   ],
   "source": [
    "grey_img = cv2.cvtColor(image1, cv2.COLOR_BGR2GRAY)\n",
    "invert = cv2.bitwise_not(grey_img)"
   ]
  },
  {
   "cell_type": "markdown",
   "id": "760cc872-b31f-4ef5-86fe-d789e8e86dd1",
   "metadata": {},
   "source": [
    "# Convert Image to Black and White"
   ]
  },
  {
   "cell_type": "code",
   "execution_count": 10,
   "id": "dee8ec51-b0db-4ab2-a148-7667aff52312",
   "metadata": {},
   "outputs": [],
   "source": [
    "(thresh, blackAndWhiteImage) = cv2.threshold(grey_img, 127, 255, cv2.THRESH_BINARY)"
   ]
  },
  {
   "cell_type": "markdown",
   "id": "d0356397-72b6-4858-bd6e-7d4215be665a",
   "metadata": {},
   "source": [
    "# Waits for User to press ank Key"
   ]
  },
  {
   "cell_type": "code",
   "execution_count": 13,
   "id": "742ccdab-f2d0-4772-8388-ed13f96b644a",
   "metadata": {},
   "outputs": [
    {
     "data": {
      "text/plain": [
       "-1"
      ]
     },
     "execution_count": 13,
     "metadata": {},
     "output_type": "execute_result"
    }
   ],
   "source": [
    "cv2.waitKey(0)"
   ]
  },
  {
   "cell_type": "markdown",
   "id": "8e215df4-799c-4c04-aa6d-6ae7205a8014",
   "metadata": {},
   "source": [
    "# closing all open windows"
   ]
  },
  {
   "cell_type": "code",
   "execution_count": 14,
   "id": "f4b77dd3-455a-41c2-9d24-a1ece5c1a159",
   "metadata": {},
   "outputs": [],
   "source": [
    "cv2.destroyAllWindows()"
   ]
  },
  {
   "cell_type": "code",
   "execution_count": null,
   "id": "d93d5584-af24-4efb-a496-9bdf0abd3bee",
   "metadata": {},
   "outputs": [],
   "source": []
  }
 ],
 "metadata": {
  "kernelspec": {
   "display_name": "Python 3",
   "language": "python",
   "name": "python3"
  },
  "language_info": {
   "codemirror_mode": {
    "name": "ipython",
    "version": 3
   },
   "file_extension": ".py",
   "mimetype": "text/x-python",
   "name": "python",
   "nbconvert_exporter": "python",
   "pygments_lexer": "ipython3",
   "version": "3.8.8"
  }
 },
 "nbformat": 4,
 "nbformat_minor": 5
}
